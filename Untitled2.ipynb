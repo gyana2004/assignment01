{
 "cells": [
  {
   "cell_type": "markdown",
   "id": "f0c08e5e-01ac-469e-b8d3-2d8646378343",
   "metadata": {},
   "source": [
    "Q1, Create a vehicle class with an init method having instance variables as name_of_vehicle, max_speed\n",
    "and average_of_vehicle."
   ]
  },
  {
   "cell_type": "code",
   "execution_count": 5,
   "id": "156fe058-6544-4d3a-a78d-c0b1693430cf",
   "metadata": {},
   "outputs": [],
   "source": [
    "class Vehicle:\n",
    "    def __init__(self, name_of_vehicle, max_speed, average_of_vehicle):\n",
    "        self.name_of_vehicle = name_of_vehicle\n",
    "        self.max_speed = max_speed\n",
    "        self.average_of_vehicle = average_of_vehicle\n"
   ]
  },
  {
   "cell_type": "code",
   "execution_count": 6,
   "id": "e358465c-92f5-4e74-a084-7f4002c0ed97",
   "metadata": {},
   "outputs": [],
   "source": [
    "car = Vehicle(\"Car\", 200, 30)"
   ]
  },
  {
   "cell_type": "code",
   "execution_count": 7,
   "id": "cba85941-170c-4a9f-b6e1-9f97cf4ff339",
   "metadata": {},
   "outputs": [
    {
     "name": "stdout",
     "output_type": "stream",
     "text": [
      "Car\n",
      "200\n",
      "30\n"
     ]
    }
   ],
   "source": [
    "print(car.name_of_vehicle)     \n",
    "print(car.max_speed)             \n",
    "print(car.average_of_vehicle)    "
   ]
  },
  {
   "cell_type": "markdown",
   "id": "741f999e-612c-47d5-b5b0-1bd7d87923d9",
   "metadata": {},
   "source": [
    "Q2. Create a child class car from the vehicle class created in Que 1, which will inherit the vehicle class.\n",
    "Create a method named seating_capacity which takes capacity as an argument and returns the name of\n",
    "the vehicle and its seating capacity."
   ]
  },
  {
   "cell_type": "code",
   "execution_count": 8,
   "id": "6661c36c-6546-4422-99bf-e2122fc22c0f",
   "metadata": {},
   "outputs": [],
   "source": [
    "class Car(Vehicle):\n",
    "    def seating_capacity(self, capacity):\n",
    "        return f\"{self.name_of_vehicle} has a seating capacity of {capacity} people.\""
   ]
  },
  {
   "cell_type": "code",
   "execution_count": 9,
   "id": "83f852a5-451e-4682-96dc-d00fcfde8109",
   "metadata": {},
   "outputs": [
    {
     "name": "stdout",
     "output_type": "stream",
     "text": [
      "Car has a seating capacity of 5 people.\n"
     ]
    }
   ],
   "source": [
    "car = Car(\"Car\", 200, 30)\n",
    "print(car.seating_capacity(5))"
   ]
  },
  {
   "cell_type": "markdown",
   "id": "4952af8b-11a2-420c-981f-9879a6b22285",
   "metadata": {},
   "source": [
    "Q3. What is multiple inheritance? Write a python code to demonstrate multiple inheritance."
   ]
  },
  {
   "cell_type": "markdown",
   "id": "07ab3dfe-57f3-4858-a28c-f17f631efe65",
   "metadata": {},
   "source": [
    "When a class is derived from more than one base class it is called multiple Inheritance. The derived class inherits all the features of the base case. Syntax:  Class Base1: Body of the class Class\n",
    "Base2: Body of the class Class Derived\n",
    "(Base1, Base2): Body of the class."
   ]
  },
  {
   "cell_type": "code",
   "execution_count": 11,
   "id": "5ced8b15-246c-43f3-b4a8-17ca13946b4a",
   "metadata": {},
   "outputs": [
    {
     "name": "stdout",
     "output_type": "stream",
     "text": [
      "My Car is driving.\n",
      "My Car is flying.\n"
     ]
    }
   ],
   "source": [
    "class Vehicle:\n",
    "    def __init__(self, name):\n",
    "        self.name = name\n",
    "\n",
    "    def drive(self):\n",
    "        print(f\"{self.name} is driving.\")\n",
    "\n",
    "class Flyable:\n",
    "    def fly(self):\n",
    "        print(f\"{self.name} is flying.\")\n",
    "\n",
    "class Car(Vehicle, Flyable):\n",
    "    def __init__(self, name):\n",
    "        super().__init__(name)\n",
    "\n",
    "car = Car(\"My Car\")\n",
    "car.drive()   \n",
    "car.fly()     \n"
   ]
  },
  {
   "cell_type": "markdown",
   "id": "811b6bc1-3ba1-4fb5-b35e-4b8be64dd6fc",
   "metadata": {},
   "source": [
    "Q4. What are getter and setter in python? Create a class and create a getter and a setter method in this\n",
    "class."
   ]
  },
  {
   "cell_type": "markdown",
   "id": "74d8aeb0-5aec-4255-8239-b74691d8bfd0",
   "metadata": {},
   "source": [
    "In Python, getters and setters are methods used to access (get) and modify (set) the values of class attributes or properties. They provide an interface to retrieve and update the values of private or protected attributes indirectly, encapsulating the internal representation of the object"
   ]
  },
  {
   "cell_type": "code",
   "execution_count": 16,
   "id": "899ba04f-c302-4a1b-aaeb-74aa85a0be50",
   "metadata": {},
   "outputs": [],
   "source": [
    "class Person:\n",
    "    def __init__(self, name):\n",
    "        self._name = name\n",
    "\n",
    "    def get_name(self):\n",
    "        return self._name\n",
    "\n",
    "    def set_name(self, new_name):\n",
    "        self._name = new_name\n"
   ]
  },
  {
   "cell_type": "code",
   "execution_count": 18,
   "id": "0757230f-2513-49ed-9d1d-500d49f74b26",
   "metadata": {},
   "outputs": [
    {
     "name": "stdout",
     "output_type": "stream",
     "text": [
      "John\n",
      "Alice\n"
     ]
    }
   ],
   "source": [
    "person = Person(\"John\")\n",
    "print(person.get_name())    \n",
    "\n",
    "person.set_name(\"Alice\")\n",
    "print(person.get_name())    \n"
   ]
  },
  {
   "cell_type": "code",
   "execution_count": null,
   "id": "9df6de1f-b524-499a-878f-457be9a5fc6c",
   "metadata": {},
   "outputs": [],
   "source": []
  },
  {
   "cell_type": "markdown",
   "id": "df924a3b-7cbc-4fca-b1dc-f241211daff8",
   "metadata": {},
   "source": [
    "What is Method Overriding in Python? Method overriding is a feature of object-oriented programming languages where the subclass or child class can provide the program with specific characteristics or a specific implementation process of data provided that are already defined in the parent class or superclass"
   ]
  }
 ],
 "metadata": {
  "kernelspec": {
   "display_name": "Python 3 (ipykernel)",
   "language": "python",
   "name": "python3"
  },
  "language_info": {
   "codemirror_mode": {
    "name": "ipython",
    "version": 3
   },
   "file_extension": ".py",
   "mimetype": "text/x-python",
   "name": "python",
   "nbconvert_exporter": "python",
   "pygments_lexer": "ipython3",
   "version": "3.10.8"
  }
 },
 "nbformat": 4,
 "nbformat_minor": 5
}
